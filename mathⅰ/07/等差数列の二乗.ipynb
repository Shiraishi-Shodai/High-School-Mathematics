{
 "cells": [
  {
   "cell_type": "code",
   "execution_count": 1,
   "id": "2c1f8f02",
   "metadata": {},
   "outputs": [],
   "source": [
    "import numpy as np\n",
    "from matplotlib import pyplot as plt\n",
    "import seaborn as sns\n",
    "import japanize_matplotlib\n",
    "import pandas as pd\n",
    "import sympy"
   ]
  },
  {
   "cell_type": "markdown",
   "id": "1bf38458",
   "metadata": {},
   "source": [
    "# 等差数列の2条の和の公式を視覚的に確かめる\n",
    "\n",
    "$$\n",
    "(1^2 + 2^2 + 3^2 + 4^2 + 5^2... n^2) = \\frac{1}{6}n(n + 1)(2_n + 1)\n",
    "$$"
   ]
  },
  {
   "cell_type": "code",
   "execution_count": null,
   "id": "e43fb26c",
   "metadata": {},
   "outputs": [
    {
     "name": "stdout",
     "output_type": "stream",
     "text": [
      "n\n"
     ]
    }
   ],
   "source": [
    "N = 5 # 何段目まで表示するか？(いくつまで2乗和をするか)\n",
    "a_1 = 1 # 初項\n",
    "num_of_element = int(1/2 * N * (a_1 + N)) # 項の数\n",
    "payramid = np.zeros(num_of_element) # 実際に値を入れる配列の要素数\n",
    "sidelength = N + (N - 1) # 表示するためのピラミッドデータの列数\n",
    "\n",
    "n = sympy.Symbol(\"n\")"
   ]
  },
  {
   "cell_type": "code",
   "execution_count": 144,
   "id": "dac1a994",
   "metadata": {},
   "outputs": [],
   "source": [
    "def check_N(value):\n",
    "    if value == N:\n",
    "        return n\n",
    "    else:\n",
    "        return value"
   ]
  },
  {
   "cell_type": "code",
   "execution_count": 164,
   "id": "ca87887f",
   "metadata": {},
   "outputs": [],
   "source": [
    "# ピラミッドのデータを作成 \n",
    "def make_payramid_data(num_of_element, n)-> np.asarray:\n",
    "    payramid = np.zeros(num_of_element, dtype=np.int8) # 実際に値を入れる配列の要素数\n",
    "    for i in range(1, n + 1):\n",
    "        a_i = int(1/2 * i *(1 + i))\n",
    "        value = i\n",
    "        payramid[a_i - i: a_i] = value\n",
    "    return payramid\n",
    "\n",
    "def make_payramid_120_data(num_of_element, n)-> np.asarray:\n",
    "    payramid_120 = np.zeros(num_of_element, dtype=np.int8) # 実際に値を入れる配列の要素数\n",
    "    count = 0\n",
    "    for i in range(0, n):\n",
    "        for j in range(n - i, n + 1):\n",
    "           value = j\n",
    "           payramid_120[count] = value\n",
    "           count += 1\n",
    "    return payramid_120\n",
    "\n",
    "def make_payramid_240_data(num_of_element, n)-> np.asarray:\n",
    "    payramid_240 = np.zeros(num_of_element, dtype=np.int8) # 実際に値を入れる配列の要素数\n",
    "    count = 0\n",
    "    for i in range(0, n):\n",
    "        for j in range(n, n - (i + 1), -1):\n",
    "           value = j\n",
    "           payramid_240[count] = value\n",
    "           count += 1\n",
    "    return payramid_240\n",
    "\n",
    "payramid = make_payramid_data(num_of_element, N)\n",
    "payramid_120 = make_payramid_120_data(num_of_element, N)\n",
    "payramid_240 = make_payramid_240_data(num_of_element, N)"
   ]
  },
  {
   "cell_type": "code",
   "execution_count": 165,
   "id": "4030affe",
   "metadata": {},
   "outputs": [
    {
     "name": "stdout",
     "output_type": "stream",
     "text": [
      "    1    \n",
      "   2 2   \n",
      "  3 3 3  \n",
      " 4 4 4 4 \n",
      "5 5 5 5 5\n",
      "    5    \n",
      "   4 5   \n",
      "  3 4 5  \n",
      " 2 3 4 5 \n",
      "1 2 3 4 5\n",
      "    5    \n",
      "   5 4   \n",
      "  5 4 3  \n",
      " 5 4 3 2 \n",
      "5 4 3 2 1\n"
     ]
    }
   ],
   "source": [
    "# payramid_view_dataを検査し、値を表示する添字にTrueを入れて返す。\n",
    "def check_bool(N, payramid_view_data)-> np.asarray:\n",
    "    top_idx = N - 1 # ピラミッドの頂上の添字(列方向に見たときの)\n",
    "    # 1始まりで、各行のデータをfor文で回す\n",
    "    for i in range(1, N + 1): \n",
    "        left_idx = top_idx - (i - 1) # 値を表示し始める左端のインデックス\n",
    "        right_idx = top_idx + (i - 1) # 値を表示し始める右端のインデックス\n",
    "        # 1行分のデータをインクリメント2で列方向に.。値を最初に表示する添字から最後に表示する添字まで\n",
    "        for j in range(left_idx, right_idx + 1, 2):\n",
    "            payramid_view_data[i - 1, j] = True \n",
    "    return payramid_view_data\n",
    "\n",
    "# ピラミッドを表示\n",
    "def view_payramid(N, payramid)-> None:\n",
    "    # ピラミッドをスペースを含めた横n, 縦{n + (n - 1)}の長方形として捉える。\n",
    "    payramid_view_data = np.full(( N, N + (N - 1)), False, dtype=bool) # 値を表示するならTrueしないならFalse(初期値はすべてFalse)\n",
    "    payramid_view_data = check_bool(N, payramid_view_data)\n",
    "    payramid_idx_count = 0\n",
    "\n",
    "    for i, row in enumerate(payramid_view_data):\n",
    "        for j, _ in enumerate(row):\n",
    "            if payramid_view_data[i, j]:\n",
    "                print(payramid[payramid_idx_count], end=\"\")\n",
    "                payramid_idx_count += 1\n",
    "            else:\n",
    "                print(\" \", end=\"\")\n",
    "        print()\n",
    "\n",
    "view_payramid(N, payramid)\n",
    "view_payramid(N, payramid_120)\n",
    "view_payramid(N, payramid_240)"
   ]
  },
  {
   "cell_type": "code",
   "execution_count": 167,
   "id": "7ca45e49",
   "metadata": {},
   "outputs": [
    {
     "name": "stdout",
     "output_type": "stream",
     "text": [
      "    11    \n",
      "   11 11   \n",
      "  11 11 11  \n",
      " 11 11 11 11 \n",
      "11 11 11 11 11\n"
     ]
    }
   ],
   "source": [
    "result = payramid + payramid_120 + payramid_240\n",
    "view_payramid(N, result)"
   ]
  }
 ],
 "metadata": {
  "kernelspec": {
   "display_name": "env",
   "language": "python",
   "name": "python3"
  },
  "language_info": {
   "codemirror_mode": {
    "name": "ipython",
    "version": 3
   },
   "file_extension": ".py",
   "mimetype": "text/x-python",
   "name": "python",
   "nbconvert_exporter": "python",
   "pygments_lexer": "ipython3",
   "version": "3.12.3"
  }
 },
 "nbformat": 4,
 "nbformat_minor": 5
}
