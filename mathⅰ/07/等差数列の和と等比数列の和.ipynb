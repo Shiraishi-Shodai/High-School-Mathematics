{
 "cells": [
  {
   "cell_type": "markdown",
   "metadata": {},
   "source": [
    "# 目的\n",
    "このファイルでは、等差数列の和と等比数列の和を視覚的に理解することを目的とする"
   ]
  },
  {
   "cell_type": "code",
   "execution_count": 2,
   "metadata": {},
   "outputs": [],
   "source": [
    "import numpy as np\n",
    "from matplotlib import pyplot as plt\n",
    "import seaborn as sns\n",
    "import japanize_matplotlib\n",
    "import pandas as pd"
   ]
  },
  {
   "cell_type": "markdown",
   "metadata": {},
   "source": [
    "## 用語\n",
    "\n",
    "数列    ：項を複数並べたもの  \n",
    "項      ：値のこと  \n",
    "初項　　：第１項目の項  \n",
    "末項　　：最後の項  \n",
    "項数　　：数列の項の数  \n",
    "一般項　：数列第n項目の項$a_n$をnの式で表したもの  \n",
    "等差数列：隣り合う項同士の差が一定である数列  \n",
    "等比数列：隣り合う項同士の比が一定である数列  "
   ]
  },
  {
   "cell_type": "markdown",
   "metadata": {},
   "source": [
    "## 1. 等比数列の和の公式が成り立つ様子を視覚化する  \n",
    "※等差をd、項数をnとする。  \n",
    "\n",
    "**等比数列の一般項の公式**  \n",
    "$$\n",
    "a_n = a_1 + (n - 1)d\n",
    "$$\n",
    "\n",
    "**等比数列の和の公式**\n",
    "$$\n",
    "S = \\frac{1}{2} (a_1 + a_1 + (n - 1)d)\n",
    "$$"
   ]
  },
  {
   "cell_type": "code",
   "execution_count": 3,
   "metadata": {},
   "outputs": [],
   "source": [
    "def make_arithmetic_progression(n, d, a1) -> np.array : \n",
    "    \"\"\"n = 項数, d =  等差, a1 =  初項\"\"\"\n",
    "\n",
    "    an = a1 + (n - 1) * d # 末項\n",
    "\n",
    "    # 数列を生成\n",
    "    arithmetic_progression = np.arange(a1, an + 1, d)\n",
    "    return arithmetic_progression"
   ]
  },
  {
   "cell_type": "code",
   "execution_count": null,
   "metadata": {},
   "outputs": [
    {
     "name": "stdout",
     "output_type": "stream",
     "text": [
      "[ 3  5  7  9 11 13 15 17 19 21]\n"
     ]
    },
    {
     "data": {
      "text/plain": [
       "Text(0.5, 1.0, '等差数列の和の可視化')"
      ]
     },
     "execution_count": 35,
     "metadata": {},
     "output_type": "execute_result"
    },
    {
     "data": {
      "image/png": "[encoded data removed]",
      "text/plain": [
       "<Figure size 640x480 with 1 Axes>"
      ]
     },
     "metadata": {},
     "output_type": "display_data"
    }
   ],
   "source": [
    "n = 10\n",
    "d = 2\n",
    "a1 = 3\n",
    "arithmetic_progression = make_arithmetic_progression(10, 2, 3)\n",
    "reversed_arithmetic_progression = np.flip(arithmetic_progression)\n",
    "\n",
    "df = pd.DataFrame({\n",
    "    \"index\": np.arange(n),  # x軸\n",
    "    \"value\": arithmetic_progression  # y軸\n",
    "})\n",
    "\n",
    "for i in range(2):\n",
    "\n",
    "    if i == 0:\n",
    "        ax = plt.bar(x=df[\"index\"], height=df[\"value\"], bottom=0, label=\"本来のデータ\")\n",
    "    else:\n",
    "        bottom = i *arithmetic_progression # 棒グラフを描画し始める高さ\n",
    "        ax = plt.bar(x=df[\"index\"], height=reversed_arithmetic_progression, bottom=bottom, label=\"仮想的に追加したデータ\")\n",
    "\n",
    "    # 棒の中に値を追加\n",
    "    # for j, value in enumerate(df[\"value\"]):\n",
    "    #     ax.text(j, value / 2, str(value), ha=\"center\")\n",
    "\n",
    "plt.legend()\n",
    "plt.xticks([])\n",
    "plt.ylabel(\"項の値\")\n",
    "plt.xlabel(\"\")\n",
    "plt.title(\"等差数列の和の可視化\")"
   ]
  }
 ],
 "metadata": {
  "kernelspec": {
   "display_name": "env",
   "language": "python",
   "name": "python3"
  },
  "language_info": {
   "codemirror_mode": {
    "name": "ipython",
    "version": 3
   },
   "file_extension": ".py",
   "mimetype": "text/x-python",
   "name": "python",
   "nbconvert_exporter": "python",
   "pygments_lexer": "ipython3",
   "version": "3.12.3"
  }
 },
 "nbformat": 4,
 "nbformat_minor": 2
}
